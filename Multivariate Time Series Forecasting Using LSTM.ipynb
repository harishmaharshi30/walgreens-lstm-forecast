{
 "cells": [
  {
   "cell_type": "markdown",
   "id": "d48e7e3d",
   "metadata": {},
   "source": [
    "### Walgreen Stock Price Prediction"
   ]
  },
  {
   "cell_type": "markdown",
   "id": "17cb9721",
   "metadata": {},
   "source": [
    "**1. Loading the data from walgreen_data.csv file**"
   ]
  },
  {
   "cell_type": "code",
   "execution_count": null,
   "id": "2bf8a213",
   "metadata": {
    "vscode": {
     "languageId": "plaintext"
    }
   },
   "outputs": [],
   "source": []
  }
 ],
 "metadata": {
  "language_info": {
   "name": "python"
  }
 },
 "nbformat": 4,
 "nbformat_minor": 5
}
